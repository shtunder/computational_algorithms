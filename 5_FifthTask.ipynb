{
 "cells": [
  {
   "cell_type": "code",
   "execution_count": 87,
   "metadata": {},
   "outputs": [
    {
     "name": "stdout",
     "output_type": "stream",
     "text": [
      "[[ 2. -1.  0.  0.]\n",
      " [-1.  2. -1.  0.]\n",
      " [ 0. -1.  2. -1.]\n",
      " [ 0.  0. -1.  2.]] \n",
      "\n",
      "[[ 3.81966011e-01  5.90604092e-08  5.02580446e-09 -2.04540255e-12]\n",
      " [ 5.90604092e-08  3.61803399e+00  4.64663860e-11 -5.05591173e-17]\n",
      " [ 5.02580450e-09  4.64665020e-11  2.61803399e+00  0.00000000e+00]\n",
      " [-2.04543464e-12 -1.76096303e-16  1.09360000e-16  1.38196601e+00]] \n",
      "\n",
      "[0.38196601 3.61803399 2.61803399 1.38196601] \n",
      "\n",
      "[3.61803399 2.61803399 0.38196601 1.38196601]\n"
     ]
    }
   ],
   "source": [
    "import numpy as np\n",
    "import matplotlib.pyplot as plt\n",
    "\n",
    "n = 4\n",
    "A = 2 * np.eye(n) - np.eye(n, k=1) - np.eye(n, k=-1)\n",
    "\n",
    "def Jacobi_Rotation(A,j,k):\n",
    "    R = np.eye(n)\n",
    "    if A[j,j] == A[k,k]:\n",
    "        theta = np.pi / 4\n",
    "        R[j, j], R[j, k], R[k, j], R[k, k] = np.cos(theta), -np.sin(theta), np.sin(theta), np.cos(theta)   \n",
    "    else:       \n",
    "        tau = (A[j,j] - A[k,k]) / (2 * A[j,k]) # ctg(2a)\n",
    "        tg = np.sign(tau) / (abs(tau) + np.sqrt(1 + tau**2)) # tg(a)\n",
    "        cos = 1 / np.sqrt(1 + tg**2) # cos(a)\n",
    "        sin = cos * tg # sin(a)\n",
    "        R[j, j], R[j, k], R[k, j], R[k, k] = cos, -sin, sin, cos\n",
    "    S = np.dot(np.transpose(R), np.dot(A,R))\n",
    "    return S\n",
    "\n",
    "def Jacobi(A):\n",
    "    while True:\n",
    "        for j in range(0,n-1):\n",
    "            for k in range(j+1,n):\n",
    "                A = Jacobi_Rotation(A,j,k)\n",
    "                if (np.linalg.norm(A - np.diag(np.diag(A))) < 10**-6):\n",
    "                    return A\n",
    "                \n",
    "print(A, \"\\n\")       \n",
    "print(Jacobi(A), \"\\n\")\n",
    "print(np.diag(Jacobi(A)), \"\\n\")\n",
    "print(np.linalg.eigvals(A))"
   ]
  }
 ],
 "metadata": {
  "kernelspec": {
   "display_name": "Python 3",
   "language": "python",
   "name": "python3"
  },
  "language_info": {
   "codemirror_mode": {
    "name": "ipython",
    "version": 3
   },
   "file_extension": ".py",
   "mimetype": "text/x-python",
   "name": "python",
   "nbconvert_exporter": "python",
   "pygments_lexer": "ipython3",
   "version": "3.7.4"
  }
 },
 "nbformat": 4,
 "nbformat_minor": 4
}
