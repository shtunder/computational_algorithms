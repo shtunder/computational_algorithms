{
 "cells": [
  {
   "cell_type": "code",
   "execution_count": 46,
   "metadata": {},
   "outputs": [
    {
     "name": "stdout",
     "output_type": "stream",
     "text": [
      "1 матрица: \n",
      "[[ 5  8 10  8]\n",
      " [10  6  5  8]\n",
      " [ 4  5  9  4]]\n",
      "2 матрица: \n",
      "[[4 2]\n",
      " [5 7]\n",
      " [6 8]\n",
      " [6 9]]\n",
      "Произведение матриц: \n",
      "[[168, 218], [148, 174], [119, 151]]\n",
      "Произведение матриц с помощью numpy: \n",
      "[[168 218]\n",
      " [148 174]\n",
      " [119 151]]\n"
     ]
    }
   ],
   "source": [
    "import numpy as np\n",
    "import random\n",
    "\n",
    "def mult_matrix(m1, m2):\n",
    "    sum = 0\n",
    "    temp = []\n",
    "    m3 = []\n",
    "    if len(m1[0]) != len(m2):\n",
    "        print(\"Матрицы нельзя перемножить\")\n",
    "    else:\n",
    "        r1 = len(m1)\n",
    "        c1 = len(m1[0])\n",
    "        r2 = c1\n",
    "        c2 = len(m2[0])\n",
    "        for i in range(r1):\n",
    "            for j in range(c2):\n",
    "                for k in range(c1):\n",
    "                    sum += m1[i][k] * m2[k][j]\n",
    "                temp.append(sum)\n",
    "                sum = 0\n",
    "            m3.append(temp)\n",
    "            temp = []\n",
    "    return m3\n",
    "            \n",
    "    \n",
    "def create_matrix(m, n):\n",
    "    a = []\n",
    "    b = []\n",
    "    for i in range(m):\n",
    "        for j in range(n):\n",
    "            b.append(random.randint(1,10))\n",
    "        a.append(b)\n",
    "        b = []\n",
    "    return a\n",
    "\n",
    "m1 = create_matrix(3, 4)\n",
    "m2 = create_matrix(4, 2)           \n",
    "\n",
    "print('1 матрица: ')\n",
    "print(np.array(m1))\n",
    "print('2 матрица: ')\n",
    "print(np.array(m2))\n",
    "print('Произведение матриц: ')\n",
    "print(mult_matrix(m1, m2))\n",
    "print('Произведение матриц с помощью numpy: ')\n",
    "print(np.matrix(m1)*np.matrix(m2))\n"
   ]
  },
  {
   "cell_type": "code",
   "execution_count": null,
   "metadata": {},
   "outputs": [],
   "source": []
  }
 ],
 "metadata": {
  "kernelspec": {
   "display_name": "Python 3",
   "language": "python",
   "name": "python3"
  },
  "language_info": {
   "codemirror_mode": {
    "name": "ipython",
    "version": 3
   },
   "file_extension": ".py",
   "mimetype": "text/x-python",
   "name": "python",
   "nbconvert_exporter": "python",
   "pygments_lexer": "ipython3",
   "version": "3.7.4"
  }
 },
 "nbformat": 4,
 "nbformat_minor": 4
}
