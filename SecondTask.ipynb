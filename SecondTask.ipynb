{
 "cells": [
  {
   "cell_type": "code",
   "execution_count": 11,
   "metadata": {},
   "outputs": [
    {
     "data": {
      "text/plain": [
       "[<matplotlib.lines.Line2D at 0x215eac15fc8>]"
      ]
     },
     "execution_count": 11,
     "metadata": {},
     "output_type": "execute_result"
    },
    {
     "data": {
      "image/png": "[encoded data removed]",
      "text/plain": [
       "<Figure size 432x288 with 1 Axes>"
      ]
     },
     "metadata": {
      "needs_background": "light"
     },
     "output_type": "display_data"
    }
   ],
   "source": [
    "import numpy as np\n",
    "from random import randint\n",
    "import time\n",
    "import matplotlib.pyplot as plt\n",
    "\n",
    "def bubble_sort(a,N):\n",
    "    for i in range(N-1):\n",
    "        for j in range(N-i-1):\n",
    "            if a[j]>a[j+1]:\n",
    "                temp = a[j]\n",
    "                a[j] = a[j+1]\n",
    "                a[j+1] = temp\n",
    "    return a\n",
    "\n",
    "# N - quantity of elements in list\n",
    "def avg_time(N):\n",
    "    N_array = 10 # quantity of lists in array\n",
    "    array = []\n",
    "    for k in range(N_array):\n",
    "        lst = []\n",
    "        for i in range(N):\n",
    "            lst.append(randint(1,99))\n",
    "\n",
    "        start_time = time.time()\n",
    "        bubble_sort(lst,N)\n",
    "        end_time = time.time()\n",
    "        array.append(end_time-start_time)\n",
    "    sum = 0\n",
    "    for i in range(len(array)):\n",
    "        sum += array[i]\n",
    "\n",
    "    average_time = sum/len(array)\n",
    "    return average_time\n",
    "\n",
    "\n",
    "Num = [i*50 for i in range(2,20)]\n",
    "t_array = [avg_time(i) for i in Num]\n",
    "    \n",
    "plt.plot(Num,t_array)"
   ]
  },
  {
   "cell_type": "code",
   "execution_count": null,
   "metadata": {},
   "outputs": [],
   "source": []
  }
 ],
 "metadata": {
  "kernelspec": {
   "display_name": "Python 3",
   "language": "python",
   "name": "python3"
  },
  "language_info": {
   "codemirror_mode": {
    "name": "ipython",
    "version": 3
   },
   "file_extension": ".py",
   "mimetype": "text/x-python",
   "name": "python",
   "nbconvert_exporter": "python",
   "pygments_lexer": "ipython3",
   "version": "3.7.4"
  }
 },
 "nbformat": 4,
 "nbformat_minor": 4
}
