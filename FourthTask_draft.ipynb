{
 "cells": [
  {
   "cell_type": "code",
   "execution_count": 257,
   "metadata": {},
   "outputs": [
    {
     "name": "stdout",
     "output_type": "stream",
     "text": [
      "3.3097214678905704 [ 0.76352112 -1.          0.54620035  0.28462968 -0.91898595  0.91898595\n",
      " -0.28462968 -0.54620035  1.         -0.76352112]\n"
     ]
    },
    {
     "data": {
      "text/plain": [
       "(array([3.91898595, 3.68250707, 3.30972147, 2.83083003, 2.28462968,\n",
       "        1.71537032, 0.08101405, 0.31749293, 0.69027853, 1.16916997]),\n",
       " array([[ 0.12013117,  0.23053002,  0.3222527 ,  0.38786839, -0.42206128,\n",
       "          0.42206128, -0.12013117,  0.23053002, -0.3222527 , -0.38786839],\n",
       "        [-0.23053002, -0.38786839, -0.42206128, -0.3222527 ,  0.12013117,\n",
       "          0.12013117, -0.23053002,  0.38786839, -0.42206128, -0.3222527 ],\n",
       "        [ 0.3222527 ,  0.42206128,  0.23053002, -0.12013117,  0.38786839,\n",
       "         -0.38786839, -0.3222527 ,  0.42206128, -0.23053002,  0.12013117],\n",
       "        [-0.38786839, -0.3222527 ,  0.12013117,  0.42206128, -0.23053002,\n",
       "         -0.23053002, -0.38786839,  0.3222527 ,  0.12013117,  0.42206128],\n",
       "        [ 0.42206128,  0.12013117, -0.38786839, -0.23053002, -0.3222527 ,\n",
       "          0.3222527 , -0.42206128,  0.12013117,  0.38786839,  0.23053002],\n",
       "        [-0.42206128,  0.12013117,  0.38786839, -0.23053002,  0.3222527 ,\n",
       "          0.3222527 , -0.42206128, -0.12013117,  0.38786839, -0.23053002],\n",
       "        [ 0.38786839, -0.3222527 , -0.12013117,  0.42206128,  0.23053002,\n",
       "         -0.23053002, -0.38786839, -0.3222527 ,  0.12013117, -0.42206128],\n",
       "        [-0.3222527 ,  0.42206128, -0.23053002, -0.12013117, -0.38786839,\n",
       "         -0.38786839, -0.3222527 , -0.42206128, -0.23053002, -0.12013117],\n",
       "        [ 0.23053002, -0.38786839,  0.42206128, -0.3222527 , -0.12013117,\n",
       "          0.12013117, -0.23053002, -0.38786839, -0.42206128,  0.3222527 ],\n",
       "        [-0.12013117,  0.23053002, -0.3222527 ,  0.38786839,  0.42206128,\n",
       "          0.42206128, -0.12013117, -0.23053002, -0.3222527 ,  0.38786839]]))"
      ]
     },
     "execution_count": 257,
     "metadata": {},
     "output_type": "execute_result"
    }
   ],
   "source": [
    "# (Note this can readily fail if A has an integer eigenvalue.)\n",
    "# Rayleigh Quotient Iteration\n",
    "# Input: square numpy array A, (nonzero) 1d numpy array x, shift s, steps k\n",
    "# Output: eigenvalue lam and eigenvector x\n",
    "\n",
    "from numpy import *\n",
    "\n",
    "def rqi( A, x, k ):\n",
    "\tI = eye(A.shape[0])\n",
    "\tfor j in range(k):\n",
    "\t\tu = x/linalg.norm(x)\t\t# normalize\n",
    "\t\tlam = dot(u,dot(A,u))\t\t# Rayleigh quotient\n",
    "#\t\tprint j,u, lam\n",
    "#\t\tprint A-lam*I\n",
    "\t\tx = linalg.solve(A-lam*I,u)\t# inverse power iteration\n",
    "\tu = x/linalg.norm(x)\n",
    "\tlam = dot(u,dot(A,u))\n",
    "\treturn lam,x/linalg.norm(x,inf)\n",
    "\n",
    "# try it out\n",
    "#A = array([[11.,-12,-6],[5,-5,-4],[-1,0,3]])\n",
    "#A = random.random((3,3))\n",
    "A = 2*np.eye(10)-np.eye(10, k=1)-np.eye(10,k=-1)\n",
    "for i in range(1):\n",
    "\tx = random.rand(10)-0.5; lam,v = rqi( A, x, 1000 ); print (lam,v)\n",
    "    \n",
    "linalg.eig(A)"
   ]
  },
  {
   "cell_type": "code",
   "execution_count": 255,
   "metadata": {},
   "outputs": [
    {
     "ename": "SyntaxError",
     "evalue": "Missing parentheses in call to 'print'. Did you mean print(\"\\nA = \")? (<ipython-input-255-331f0b8016e6>, line 10)",
     "output_type": "error",
     "traceback": [
      "\u001b[1;36m  File \u001b[1;32m\"<ipython-input-255-331f0b8016e6>\"\u001b[1;36m, line \u001b[1;32m10\u001b[0m\n\u001b[1;33m    print \"\\nA = \"\u001b[0m\n\u001b[1;37m                 ^\u001b[0m\n\u001b[1;31mSyntaxError\u001b[0m\u001b[1;31m:\u001b[0m Missing parentheses in call to 'print'. Did you mean print(\"\\nA = \")?\n"
     ]
    }
   ],
   "source": [
    "\"\"\"\n",
    "Sample code for Rayleigh quotient iteration applied to \n",
    "shift matrix.\n",
    "\"\"\"\n",
    "\n",
    "from pylab import *\n",
    "\n",
    "A = array([[0,1,0,0],[0,0,1,0],[0,0,0,1],[1,0,0,0]])\n",
    "\n",
    "print \"\\nA = \"\n",
    "print A\n",
    "\n",
    "lam,X = eig(A)\n",
    "\n",
    "print \"\\nEigenvalues: \",lam\n",
    "\n",
    "v = randn(4)\n",
    "print \"\\nStarting guess v: \",v\n",
    "print \" \"\n",
    "\n",
    "mu = 1. + 1j\n",
    "print \"k = %s, mu = %21.16f + %21.16fj\" %  (0,mu.real,mu.imag)\n",
    "\n",
    "for k in range(1,10):\n",
    "    B = A - mu*eye(4)\n",
    "    try:\n",
    "        w = solve(B,v)\n",
    "    except:\n",
    "        print \"Matrix is singular!   Converged solution\"\n",
    "        break\n",
    "    v = w / norm(w,2)\n",
    "    mu = dot(conj(v.T), dot(A,v))\n",
    "    print \"k = %s, mu = %21.16f + %21.16fj\" %  (k,mu.real,mu.imag)\n"
   ]
  },
  {
   "cell_type": "code",
   "execution_count": 266,
   "metadata": {},
   "outputs": [
    {
     "name": "stdout",
     "output_type": "stream",
     "text": [
      "(array([ 0.42206128,  0.12013117, -0.38786839, -0.23053002,  0.3222527 ,\n",
      "        0.3222527 , -0.23053002, -0.38786839,  0.12013117,  0.42206128]), 1.7153703234534299)\n"
     ]
    },
    {
     "data": {
      "text/plain": [
       "array([3.91898595, 3.68250707, 3.30972147, 2.83083003, 2.28462968,\n",
       "       1.71537032, 0.08101405, 0.31749293, 0.69027853, 1.16916997])"
      ]
     },
     "execution_count": 266,
     "metadata": {},
     "output_type": "execute_result"
    }
   ],
   "source": [
    "import numpy as np\n",
    "\n",
    "\n",
    "def RayleighQuotientIteration(A, max_iter):\n",
    "    I = np.identity(A.shape[0])\n",
    "    v = np.random.randn(A.shape[0])\n",
    "    v /= np.linalg.norm(v) #generate a uniformly random unit vector\n",
    "    mu = np.dot(v, np.dot(A, v))\n",
    "    for t in range(max_iter):\n",
    "        v = np.linalg.solve(A - mu * I, v) #compute (mu*I - A)^(-1)v\n",
    "        v /= np.linalg.norm(v)\n",
    "        mu = np.dot(v, np.dot(A, v))/np.dot(v,v) #compute Rayleigh quotient\n",
    "    return (v, mu)\n",
    "\n",
    "A = 2*np.eye(10)-np.eye(10, k=1)-np.eye(10,k=-1)\n",
    "\n",
    "print(RayleighQuotientIteration(A, 1000))\n",
    "\n",
    "np.linalg.eigvals(A)\n"
   ]
  },
  {
   "cell_type": "code",
   "execution_count": 263,
   "metadata": {},
   "outputs": [
    {
     "data": {
      "text/plain": [
       "(4,)"
      ]
     },
     "execution_count": 263,
     "metadata": {},
     "output_type": "execute_result"
    }
   ],
   "source": [
    "np.shape([0, 1, 2, 3])"
   ]
  },
  {
   "cell_type": "code",
   "execution_count": null,
   "metadata": {},
   "outputs": [],
   "source": []
  },
  {
   "cell_type": "code",
   "execution_count": null,
   "metadata": {},
   "outputs": [],
   "source": []
  }
 ],
 "metadata": {
  "kernelspec": {
   "display_name": "Python 3",
   "language": "python",
   "name": "python3"
  },
  "language_info": {
   "codemirror_mode": {
    "name": "ipython",
    "version": 3
   },
   "file_extension": ".py",
   "mimetype": "text/x-python",
   "name": "python",
   "nbconvert_exporter": "python",
   "pygments_lexer": "ipython3",
   "version": "3.7.4"
  }
 },
 "nbformat": 4,
 "nbformat_minor": 4
}
